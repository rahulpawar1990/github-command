{
 "cells": [
  {
   "cell_type": "markdown",
   "id": "97a10fbe",
   "metadata": {},
   "source": [
    "# JIRA"
   ]
  },
  {
   "cell_type": "code",
   "execution_count": null,
   "id": "3572f8f8",
   "metadata": {},
   "outputs": [],
   "source": [
    "POC --> Proof of Concept \n",
    "\n",
    "Project - 3 - 6 Months\n",
    "\n",
    "JIRA --> Project Management Tool\n",
    "\n",
    "Epic --> 3 months >> Project plan\n",
    "\n",
    "Sprint --> 2 week / 1 week (10 days)\n",
    "\n",
    "Story1 --> 2 days\n",
    "Story2 --> EDA:\n",
    "    Encoding\n",
    "    Outliers\n",
    "    Missing values\n",
    "    \n",
    "Story3 : Feature Selection\n",
    "    \n",
    "    JIRA report -->"
   ]
  },
  {
   "cell_type": "markdown",
   "id": "a673433d",
   "metadata": {},
   "source": [
    "# Git"
   ]
  },
  {
   "cell_type": "code",
   "execution_count": null,
   "id": "2a6d1d1d",
   "metadata": {},
   "outputs": [],
   "source": [
    "1. GitHub\n",
    "2. GitLab\n",
    "3. BitBucket\n",
    "\n",
    "# UI is different\n",
    "\n",
    "# 98% of companies"
   ]
  },
  {
   "cell_type": "code",
   "execution_count": null,
   "id": "141b0a9f",
   "metadata": {},
   "outputs": [],
   "source": [
    "AWS\n",
    "GCP\n",
    "Azure"
   ]
  },
  {
   "cell_type": "code",
   "execution_count": null,
   "id": "57673ad5",
   "metadata": {},
   "outputs": [],
   "source": [
    "README.md\n",
    ".gitignore\n",
    ".yml / requirement.txt"
   ]
  },
  {
   "cell_type": "markdown",
   "id": "bd587da1",
   "metadata": {},
   "source": [
    "# Clone Repository"
   ]
  },
  {
   "cell_type": "code",
   "execution_count": null,
   "id": "b58501fc",
   "metadata": {},
   "outputs": [],
   "source": [
    "git clone URL\n",
    "git clone https://github.com/shreeram7393/medical_insurance.git\n",
    "    \n",
    "# One Time"
   ]
  },
  {
   "cell_type": "markdown",
   "id": "a37b5348",
   "metadata": {},
   "source": [
    "# Git Status"
   ]
  },
  {
   "cell_type": "code",
   "execution_count": null,
   "id": "9b931dbd",
   "metadata": {},
   "outputs": [],
   "source": [
    "git status"
   ]
  },
  {
   "cell_type": "markdown",
   "id": "c82da624",
   "metadata": {},
   "source": [
    "# Add Files on Git"
   ]
  },
  {
   "cell_type": "code",
   "execution_count": null,
   "id": "6fb5afab",
   "metadata": {},
   "outputs": [],
   "source": [
    "git add \"File_name\"\n",
    "\n",
    "# single \n",
    "git add main.py\n",
    "git add index.html\n",
    "\n",
    "# add mutiple files on git\n",
    "git add --all\n",
    "git add .   (Not Recommended)"
   ]
  },
  {
   "cell_type": "markdown",
   "id": "b5274986",
   "metadata": {},
   "source": [
    "# Commit files"
   ]
  },
  {
   "cell_type": "code",
   "execution_count": null,
   "id": "c9802b58",
   "metadata": {},
   "outputs": [],
   "source": [
    "git commit -m \"Your Message\""
   ]
  },
  {
   "cell_type": "markdown",
   "id": "2abfd05b",
   "metadata": {},
   "source": [
    "# git Push"
   ]
  },
  {
   "cell_type": "code",
   "execution_count": null,
   "id": "e107bffc",
   "metadata": {},
   "outputs": [],
   "source": [
    "git push\n",
    "\n",
    "# if multiple branches\n",
    "git push origin eda"
   ]
  },
  {
   "cell_type": "markdown",
   "id": "f01bf033",
   "metadata": {},
   "source": [
    "# Create New Subbranches"
   ]
  },
  {
   "cell_type": "code",
   "execution_count": null,
   "id": "c6a77b13",
   "metadata": {},
   "outputs": [],
   "source": [
    "git checkout -b branch_name\n",
    "\n",
    "git checkout -b eda"
   ]
  },
  {
   "cell_type": "markdown",
   "id": "ec0ddf74",
   "metadata": {},
   "source": [
    "# Check the branches"
   ]
  },
  {
   "cell_type": "code",
   "execution_count": null,
   "id": "51d87c76",
   "metadata": {},
   "outputs": [],
   "source": [
    "git branch"
   ]
  },
  {
   "cell_type": "markdown",
   "id": "395da7e3",
   "metadata": {},
   "source": [
    "# Change your Branch"
   ]
  },
  {
   "cell_type": "code",
   "execution_count": null,
   "id": "754c5b5f",
   "metadata": {},
   "outputs": [],
   "source": [
    "git checkout brach_name\n",
    "\n",
    "git checkout main"
   ]
  },
  {
   "cell_type": "markdown",
   "id": "0fbdb8d0",
   "metadata": {},
   "source": [
    "# git pull"
   ]
  },
  {
   "cell_type": "code",
   "execution_count": null,
   "id": "f3ee29fe",
   "metadata": {},
   "outputs": [],
   "source": [
    "git pull\n",
    "\n",
    "git pull origin branch_name\n",
    "\n",
    "git pull origin main"
   ]
  },
  {
   "cell_type": "markdown",
   "id": "dce787fe",
   "metadata": {},
   "source": [
    "# Delete Branch"
   ]
  },
  {
   "cell_type": "code",
   "execution_count": null,
   "id": "9af1a478",
   "metadata": {},
   "outputs": [],
   "source": [
    "git branch -d branch_name\n",
    "\n",
    "git branch -d eda\n",
    "\n",
    "git push origine --delete eda"
   ]
  }
 ],
 "metadata": {
  "kernelspec": {
   "display_name": "Python 3 (ipykernel)",
   "language": "python",
   "name": "python3"
  },
  "language_info": {
   "codemirror_mode": {
    "name": "ipython",
    "version": 3
   },
   "file_extension": ".py",
   "mimetype": "text/x-python",
   "name": "python",
   "nbconvert_exporter": "python",
   "pygments_lexer": "ipython3",
   "version": "3.9.12"
  }
 },
 "nbformat": 4,
 "nbformat_minor": 5
}
